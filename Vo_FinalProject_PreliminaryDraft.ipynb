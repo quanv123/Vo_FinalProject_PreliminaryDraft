{
 "cells": [
  {
   "cell_type": "markdown",
   "id": "9a661d66",
   "metadata": {},
   "source": [
    "# Final Project Preliminary Draft\n",
    "\n",
    "## By Quan Vo\n",
    "\n",
    "### 12/13/22"
   ]
  },
  {
   "cell_type": "markdown",
   "id": "066f5370",
   "metadata": {},
   "source": [
    "In this final project, I have decided to use Steam as my topic and gather data from my Steam profile to determine the number of games that I've played and the number of games that I haven't played from my library. Throughout my years of using Steam, I have purchased many games from the store often during sales and because of that, I've always been curious as to how many of those purchased games still remain unplayed. I believe retrieving the data from my Steam profile and organizing it will help me draw a conclusion and could even bring some other insights during the process. I will be using the Steam [web API](https://steamcommunity.com/dev) to access my profile data and its contents. "
   ]
  },
  {
   "cell_type": "code",
   "execution_count": 107,
   "id": "1b657f77",
   "metadata": {},
   "outputs": [],
   "source": [
    "import pandas as pd\n",
    "import json\n",
    "import numpy as np\n",
    "from matplotlib import pyplot as plt\n",
    "from scipy import stats\n",
    "import base64\n",
    "import requests\n",
    "import random"
   ]
  },
  {
   "cell_type": "markdown",
   "id": "09504d6d",
   "metadata": {},
   "source": [
    "The first steps I needed to take was to find my Steam ID as well as obtain a Steam API key. My Steam ID is a 17-digit number that's located in the URL of my profile. As for the Steam API key, I needed to fill out a form on the Steam website in order to obtain a key. All it asked was to create a domain name and agree with the terms of use, then it would give me my own API key. Once I have both my key and my ID, I'll put them in a text file, and then read the contents of that text file using different variables."
   ]
  },
  {
   "cell_type": "code",
   "execution_count": 108,
   "id": "5032ca25",
   "metadata": {},
   "outputs": [],
   "source": [
    "keys = pd.read_csv(\"Steam-Keys.txt\", header = 0, sep = \",\")"
   ]
  },
  {
   "cell_type": "code",
   "execution_count": 109,
   "id": "60f401c2",
   "metadata": {},
   "outputs": [],
   "source": [
    "steamApiKey = keys['Steam_Key'][0]\n",
    "steamID = keys['Steam_ID'][0]"
   ]
  },
  {
   "cell_type": "markdown",
   "id": "118ea216",
   "metadata": {},
   "source": [
    "The next thing I needed to do was to find a Steam API link and then format that link. What I found was the [GetOwnedGames](https://developer.valvesoftware.com/wiki/Steam_Web_API#GetOwnedGames_.28v0001.29) method which will allow me to retrieve the list of games in my library. I'll use the given URL to initialize 'slink1' while also inserting my Steam ID and my API key in that URL."
   ]
  },
  {
   "cell_type": "code",
   "execution_count": 110,
   "id": "1eab9f08",
   "metadata": {},
   "outputs": [],
   "source": [
    "slink1 = 'http://api.steampowered.com/IPlayerService/GetOwnedGames/v0001/?key=' + str(steamApiKey) + '&steamid=' + str(steamID) + '&format=json'\n",
    "slink2 = \"&steamid=\" + str(steamID) + \"&include_appinfo=1&format=json\"\n",
    "slink = slink1 + steamApiKey + slink2"
   ]
  },
  {
   "cell_type": "markdown",
   "id": "08519119",
   "metadata": {},
   "source": [
    "After defining my 'slink' variables, I'll make a variable called 'r' and use the requests.get() method to retrieve the data from 'slink.' Then I will convert the data from 'r' into a JSON so that I would be able to make my data frames."
   ]
  },
  {
   "cell_type": "code",
   "execution_count": 111,
   "id": "ac6b4eb9",
   "metadata": {},
   "outputs": [],
   "source": [
    "r = requests.get(slink)\n",
    "steam = r.json()\n",
    "#steam"
   ]
  },
  {
   "cell_type": "markdown",
   "id": "d81e9a08",
   "metadata": {},
   "source": [
    "Everything in the JSON is nested inside the 'response' title, so the default data frame will just use 'response' as a column and only display 'game_count' and 'games.' I need to take some steps to format the data frame to get the information I need."
   ]
  },
  {
   "cell_type": "code",
   "execution_count": 112,
   "id": "b4198d33",
   "metadata": {},
   "outputs": [
    {
     "data": {
      "text/html": [
       "<div>\n",
       "<style scoped>\n",
       "    .dataframe tbody tr th:only-of-type {\n",
       "        vertical-align: middle;\n",
       "    }\n",
       "\n",
       "    .dataframe tbody tr th {\n",
       "        vertical-align: top;\n",
       "    }\n",
       "\n",
       "    .dataframe thead th {\n",
       "        text-align: right;\n",
       "    }\n",
       "</style>\n",
       "<table border=\"1\" class=\"dataframe\">\n",
       "  <thead>\n",
       "    <tr style=\"text-align: right;\">\n",
       "      <th></th>\n",
       "      <th>response</th>\n",
       "    </tr>\n",
       "  </thead>\n",
       "  <tbody>\n",
       "    <tr>\n",
       "      <th>game_count</th>\n",
       "      <td>86</td>\n",
       "    </tr>\n",
       "    <tr>\n",
       "      <th>games</th>\n",
       "      <td>[{'appid': 50, 'name': 'Half-Life: Opposing Fo...</td>\n",
       "    </tr>\n",
       "  </tbody>\n",
       "</table>\n",
       "</div>"
      ],
      "text/plain": [
       "                                                     response\n",
       "game_count                                                 86\n",
       "games       [{'appid': 50, 'name': 'Half-Life: Opposing Fo..."
      ]
     },
     "execution_count": 112,
     "metadata": {},
     "output_type": "execute_result"
    }
   ],
   "source": [
    "pd.DataFrame(steam)"
   ]
  },
  {
   "cell_type": "markdown",
   "id": "d829f4f1",
   "metadata": {},
   "source": [
    "Putting ['response'] inside the parenthesis will separate 'game_count' and 'games' into their own column. As of right now, the only valuable information I have in this data frame is that it tells me that I have 86 games in my Steam library. What I want now is to display everything from the 'games' in their own data frame and separate each category into their own column."
   ]
  },
  {
   "cell_type": "code",
   "execution_count": 113,
   "id": "8e556c25",
   "metadata": {},
   "outputs": [
    {
     "data": {
      "text/html": [
       "<div>\n",
       "<style scoped>\n",
       "    .dataframe tbody tr th:only-of-type {\n",
       "        vertical-align: middle;\n",
       "    }\n",
       "\n",
       "    .dataframe tbody tr th {\n",
       "        vertical-align: top;\n",
       "    }\n",
       "\n",
       "    .dataframe thead th {\n",
       "        text-align: right;\n",
       "    }\n",
       "</style>\n",
       "<table border=\"1\" class=\"dataframe\">\n",
       "  <thead>\n",
       "    <tr style=\"text-align: right;\">\n",
       "      <th></th>\n",
       "      <th>game_count</th>\n",
       "      <th>games</th>\n",
       "    </tr>\n",
       "  </thead>\n",
       "  <tbody>\n",
       "    <tr>\n",
       "      <th>0</th>\n",
       "      <td>86</td>\n",
       "      <td>{'appid': 50, 'name': 'Half-Life: Opposing For...</td>\n",
       "    </tr>\n",
       "    <tr>\n",
       "      <th>1</th>\n",
       "      <td>86</td>\n",
       "      <td>{'appid': 70, 'name': 'Half-Life', 'playtime_f...</td>\n",
       "    </tr>\n",
       "    <tr>\n",
       "      <th>2</th>\n",
       "      <td>86</td>\n",
       "      <td>{'appid': 130, 'name': 'Half-Life: Blue Shift'...</td>\n",
       "    </tr>\n",
       "    <tr>\n",
       "      <th>3</th>\n",
       "      <td>86</td>\n",
       "      <td>{'appid': 3830, 'name': 'Psychonauts', 'playti...</td>\n",
       "    </tr>\n",
       "    <tr>\n",
       "      <th>4</th>\n",
       "      <td>86</td>\n",
       "      <td>{'appid': 6910, 'name': 'Deus Ex: Game of the ...</td>\n",
       "    </tr>\n",
       "    <tr>\n",
       "      <th>...</th>\n",
       "      <td>...</td>\n",
       "      <td>...</td>\n",
       "    </tr>\n",
       "    <tr>\n",
       "      <th>81</th>\n",
       "      <td>86</td>\n",
       "      <td>{'appid': 1178880, 'name': 'Panzer Dragoon: Re...</td>\n",
       "    </tr>\n",
       "    <tr>\n",
       "      <th>82</th>\n",
       "      <td>86</td>\n",
       "      <td>{'appid': 966720, 'name': 'Pumped BMX Pro', 'p...</td>\n",
       "    </tr>\n",
       "    <tr>\n",
       "      <th>83</th>\n",
       "      <td>86</td>\n",
       "      <td>{'appid': 231430, 'name': 'Company of Heroes 2...</td>\n",
       "    </tr>\n",
       "    <tr>\n",
       "      <th>84</th>\n",
       "      <td>86</td>\n",
       "      <td>{'appid': 1818750, 'name': 'MultiVersus', 'pla...</td>\n",
       "    </tr>\n",
       "    <tr>\n",
       "      <th>85</th>\n",
       "      <td>86</td>\n",
       "      <td>{'appid': 1301210, 'name': 'Knockout City™', '...</td>\n",
       "    </tr>\n",
       "  </tbody>\n",
       "</table>\n",
       "<p>86 rows × 2 columns</p>\n",
       "</div>"
      ],
      "text/plain": [
       "    game_count                                              games\n",
       "0           86  {'appid': 50, 'name': 'Half-Life: Opposing For...\n",
       "1           86  {'appid': 70, 'name': 'Half-Life', 'playtime_f...\n",
       "2           86  {'appid': 130, 'name': 'Half-Life: Blue Shift'...\n",
       "3           86  {'appid': 3830, 'name': 'Psychonauts', 'playti...\n",
       "4           86  {'appid': 6910, 'name': 'Deus Ex: Game of the ...\n",
       "..         ...                                                ...\n",
       "81          86  {'appid': 1178880, 'name': 'Panzer Dragoon: Re...\n",
       "82          86  {'appid': 966720, 'name': 'Pumped BMX Pro', 'p...\n",
       "83          86  {'appid': 231430, 'name': 'Company of Heroes 2...\n",
       "84          86  {'appid': 1818750, 'name': 'MultiVersus', 'pla...\n",
       "85          86  {'appid': 1301210, 'name': 'Knockout City™', '...\n",
       "\n",
       "[86 rows x 2 columns]"
      ]
     },
     "execution_count": 113,
     "metadata": {},
     "output_type": "execute_result"
    }
   ],
   "source": [
    "steam_df = pd.DataFrame(steam['response'])\n",
    "steam_df"
   ]
  },
  {
   "cell_type": "code",
   "execution_count": 114,
   "id": "0ba3415f",
   "metadata": {},
   "outputs": [
    {
     "data": {
      "text/plain": [
       "0     {'appid': 50, 'name': 'Half-Life: Opposing For...\n",
       "1     {'appid': 70, 'name': 'Half-Life', 'playtime_f...\n",
       "2     {'appid': 130, 'name': 'Half-Life: Blue Shift'...\n",
       "3     {'appid': 3830, 'name': 'Psychonauts', 'playti...\n",
       "4     {'appid': 6910, 'name': 'Deus Ex: Game of the ...\n",
       "                            ...                        \n",
       "81    {'appid': 1178880, 'name': 'Panzer Dragoon: Re...\n",
       "82    {'appid': 966720, 'name': 'Pumped BMX Pro', 'p...\n",
       "83    {'appid': 231430, 'name': 'Company of Heroes 2...\n",
       "84    {'appid': 1818750, 'name': 'MultiVersus', 'pla...\n",
       "85    {'appid': 1301210, 'name': 'Knockout City™', '...\n",
       "Name: games, Length: 86, dtype: object"
      ]
     },
     "execution_count": 114,
     "metadata": {},
     "output_type": "execute_result"
    }
   ],
   "source": [
    "steam_df['games']"
   ]
  },
  {
   "cell_type": "markdown",
   "id": "505a6a79",
   "metadata": {},
   "source": [
    "If I use the \"list()\" function and put \"steam_df['games']\" inside the parenthesis, it will create a data frame that lists all the information from 'games,' with every category separated into their own columns. This data frame lists every game that I own as well as the play time for each game. Now I have the data I need in order to find out how many games I've played in my library and how many I still haven't played."
   ]
  },
  {
   "cell_type": "code",
   "execution_count": 115,
   "id": "c93346f9",
   "metadata": {
    "scrolled": false
   },
   "outputs": [
    {
     "data": {
      "text/html": [
       "<div>\n",
       "<style scoped>\n",
       "    .dataframe tbody tr th:only-of-type {\n",
       "        vertical-align: middle;\n",
       "    }\n",
       "\n",
       "    .dataframe tbody tr th {\n",
       "        vertical-align: top;\n",
       "    }\n",
       "\n",
       "    .dataframe thead th {\n",
       "        text-align: right;\n",
       "    }\n",
       "</style>\n",
       "<table border=\"1\" class=\"dataframe\">\n",
       "  <thead>\n",
       "    <tr style=\"text-align: right;\">\n",
       "      <th></th>\n",
       "      <th>appid</th>\n",
       "      <th>name</th>\n",
       "      <th>playtime_forever</th>\n",
       "      <th>img_icon_url</th>\n",
       "      <th>playtime_windows_forever</th>\n",
       "      <th>playtime_mac_forever</th>\n",
       "      <th>playtime_linux_forever</th>\n",
       "      <th>rtime_last_played</th>\n",
       "      <th>has_community_visible_stats</th>\n",
       "      <th>has_leaderboards</th>\n",
       "    </tr>\n",
       "  </thead>\n",
       "  <tbody>\n",
       "    <tr>\n",
       "      <th>0</th>\n",
       "      <td>50</td>\n",
       "      <td>Half-Life: Opposing Force</td>\n",
       "      <td>470</td>\n",
       "      <td>04e81206c10e12416908c72c5f22aad411b3aeef</td>\n",
       "      <td>0</td>\n",
       "      <td>0</td>\n",
       "      <td>0</td>\n",
       "      <td>1515201732</td>\n",
       "      <td>NaN</td>\n",
       "      <td>NaN</td>\n",
       "    </tr>\n",
       "    <tr>\n",
       "      <th>1</th>\n",
       "      <td>70</td>\n",
       "      <td>Half-Life</td>\n",
       "      <td>1401</td>\n",
       "      <td>95be6d131fc61f145797317ca437c9765f24b41c</td>\n",
       "      <td>0</td>\n",
       "      <td>0</td>\n",
       "      <td>0</td>\n",
       "      <td>1515103702</td>\n",
       "      <td>NaN</td>\n",
       "      <td>NaN</td>\n",
       "    </tr>\n",
       "    <tr>\n",
       "      <th>2</th>\n",
       "      <td>130</td>\n",
       "      <td>Half-Life: Blue Shift</td>\n",
       "      <td>233</td>\n",
       "      <td>b06fdee488b3220362c11704be4edad82abeed08</td>\n",
       "      <td>0</td>\n",
       "      <td>0</td>\n",
       "      <td>0</td>\n",
       "      <td>1515301292</td>\n",
       "      <td>NaN</td>\n",
       "      <td>NaN</td>\n",
       "    </tr>\n",
       "    <tr>\n",
       "      <th>3</th>\n",
       "      <td>3830</td>\n",
       "      <td>Psychonauts</td>\n",
       "      <td>1688</td>\n",
       "      <td>460b6471db7d83ee6943c1a87f7a9f2898634952</td>\n",
       "      <td>0</td>\n",
       "      <td>0</td>\n",
       "      <td>0</td>\n",
       "      <td>1520911660</td>\n",
       "      <td>True</td>\n",
       "      <td>NaN</td>\n",
       "    </tr>\n",
       "    <tr>\n",
       "      <th>4</th>\n",
       "      <td>6910</td>\n",
       "      <td>Deus Ex: Game of the Year Edition</td>\n",
       "      <td>0</td>\n",
       "      <td>03c8e5e89d83c536b44798e77ead5d813103991f</td>\n",
       "      <td>0</td>\n",
       "      <td>0</td>\n",
       "      <td>0</td>\n",
       "      <td>0</td>\n",
       "      <td>NaN</td>\n",
       "      <td>NaN</td>\n",
       "    </tr>\n",
       "    <tr>\n",
       "      <th>...</th>\n",
       "      <td>...</td>\n",
       "      <td>...</td>\n",
       "      <td>...</td>\n",
       "      <td>...</td>\n",
       "      <td>...</td>\n",
       "      <td>...</td>\n",
       "      <td>...</td>\n",
       "      <td>...</td>\n",
       "      <td>...</td>\n",
       "      <td>...</td>\n",
       "    </tr>\n",
       "    <tr>\n",
       "      <th>81</th>\n",
       "      <td>1178880</td>\n",
       "      <td>Panzer Dragoon: Remake</td>\n",
       "      <td>0</td>\n",
       "      <td>d00adb1a1a70663380eaa17a0835a9cf5931f23c</td>\n",
       "      <td>0</td>\n",
       "      <td>0</td>\n",
       "      <td>0</td>\n",
       "      <td>0</td>\n",
       "      <td>True</td>\n",
       "      <td>True</td>\n",
       "    </tr>\n",
       "    <tr>\n",
       "      <th>82</th>\n",
       "      <td>966720</td>\n",
       "      <td>Pumped BMX Pro</td>\n",
       "      <td>0</td>\n",
       "      <td>43013764d179d58f2bb2b6be317e67b715e252f7</td>\n",
       "      <td>0</td>\n",
       "      <td>0</td>\n",
       "      <td>0</td>\n",
       "      <td>0</td>\n",
       "      <td>True</td>\n",
       "      <td>NaN</td>\n",
       "    </tr>\n",
       "    <tr>\n",
       "      <th>83</th>\n",
       "      <td>231430</td>\n",
       "      <td>Company of Heroes 2</td>\n",
       "      <td>0</td>\n",
       "      <td>5e7e1866fb4f33a17393b0441cd1c750dbd91c5f</td>\n",
       "      <td>0</td>\n",
       "      <td>0</td>\n",
       "      <td>0</td>\n",
       "      <td>0</td>\n",
       "      <td>True</td>\n",
       "      <td>NaN</td>\n",
       "    </tr>\n",
       "    <tr>\n",
       "      <th>84</th>\n",
       "      <td>1818750</td>\n",
       "      <td>MultiVersus</td>\n",
       "      <td>197</td>\n",
       "      <td>b99e0727d4b37c022f33f8f72fada74c5108aac0</td>\n",
       "      <td>197</td>\n",
       "      <td>0</td>\n",
       "      <td>0</td>\n",
       "      <td>1661661046</td>\n",
       "      <td>True</td>\n",
       "      <td>NaN</td>\n",
       "    </tr>\n",
       "    <tr>\n",
       "      <th>85</th>\n",
       "      <td>1301210</td>\n",
       "      <td>Knockout City™</td>\n",
       "      <td>0</td>\n",
       "      <td>ef67468ea82f62c33d46189e13b7493e189c8878</td>\n",
       "      <td>0</td>\n",
       "      <td>0</td>\n",
       "      <td>0</td>\n",
       "      <td>0</td>\n",
       "      <td>True</td>\n",
       "      <td>NaN</td>\n",
       "    </tr>\n",
       "  </tbody>\n",
       "</table>\n",
       "<p>86 rows × 10 columns</p>\n",
       "</div>"
      ],
      "text/plain": [
       "      appid                               name  playtime_forever  \\\n",
       "0        50          Half-Life: Opposing Force               470   \n",
       "1        70                          Half-Life              1401   \n",
       "2       130              Half-Life: Blue Shift               233   \n",
       "3      3830                        Psychonauts              1688   \n",
       "4      6910  Deus Ex: Game of the Year Edition                 0   \n",
       "..      ...                                ...               ...   \n",
       "81  1178880             Panzer Dragoon: Remake                 0   \n",
       "82   966720                     Pumped BMX Pro                 0   \n",
       "83   231430                Company of Heroes 2                 0   \n",
       "84  1818750                        MultiVersus               197   \n",
       "85  1301210                     Knockout City™                 0   \n",
       "\n",
       "                                img_icon_url  playtime_windows_forever  \\\n",
       "0   04e81206c10e12416908c72c5f22aad411b3aeef                         0   \n",
       "1   95be6d131fc61f145797317ca437c9765f24b41c                         0   \n",
       "2   b06fdee488b3220362c11704be4edad82abeed08                         0   \n",
       "3   460b6471db7d83ee6943c1a87f7a9f2898634952                         0   \n",
       "4   03c8e5e89d83c536b44798e77ead5d813103991f                         0   \n",
       "..                                       ...                       ...   \n",
       "81  d00adb1a1a70663380eaa17a0835a9cf5931f23c                         0   \n",
       "82  43013764d179d58f2bb2b6be317e67b715e252f7                         0   \n",
       "83  5e7e1866fb4f33a17393b0441cd1c750dbd91c5f                         0   \n",
       "84  b99e0727d4b37c022f33f8f72fada74c5108aac0                       197   \n",
       "85  ef67468ea82f62c33d46189e13b7493e189c8878                         0   \n",
       "\n",
       "    playtime_mac_forever  playtime_linux_forever  rtime_last_played  \\\n",
       "0                      0                       0         1515201732   \n",
       "1                      0                       0         1515103702   \n",
       "2                      0                       0         1515301292   \n",
       "3                      0                       0         1520911660   \n",
       "4                      0                       0                  0   \n",
       "..                   ...                     ...                ...   \n",
       "81                     0                       0                  0   \n",
       "82                     0                       0                  0   \n",
       "83                     0                       0                  0   \n",
       "84                     0                       0         1661661046   \n",
       "85                     0                       0                  0   \n",
       "\n",
       "   has_community_visible_stats has_leaderboards  \n",
       "0                          NaN              NaN  \n",
       "1                          NaN              NaN  \n",
       "2                          NaN              NaN  \n",
       "3                         True              NaN  \n",
       "4                          NaN              NaN  \n",
       "..                         ...              ...  \n",
       "81                        True             True  \n",
       "82                        True              NaN  \n",
       "83                        True              NaN  \n",
       "84                        True              NaN  \n",
       "85                        True              NaN  \n",
       "\n",
       "[86 rows x 10 columns]"
      ]
     },
     "execution_count": 115,
     "metadata": {},
     "output_type": "execute_result"
    }
   ],
   "source": [
    "games = pd.DataFrame(list(steam_df['games']))\n",
    "games"
   ]
  },
  {
   "cell_type": "markdown",
   "id": "053acd65",
   "metadata": {},
   "source": [
    "I think most of the columns in my data frame aren't necessary to come up with a conclusion for my report, so I decided to remake the data frame by removing every column except for 'name' and 'playtime_forever.'"
   ]
  },
  {
   "cell_type": "code",
   "execution_count": 116,
   "id": "618a152e",
   "metadata": {},
   "outputs": [
    {
     "data": {
      "text/html": [
       "<div>\n",
       "<style scoped>\n",
       "    .dataframe tbody tr th:only-of-type {\n",
       "        vertical-align: middle;\n",
       "    }\n",
       "\n",
       "    .dataframe tbody tr th {\n",
       "        vertical-align: top;\n",
       "    }\n",
       "\n",
       "    .dataframe thead th {\n",
       "        text-align: right;\n",
       "    }\n",
       "</style>\n",
       "<table border=\"1\" class=\"dataframe\">\n",
       "  <thead>\n",
       "    <tr style=\"text-align: right;\">\n",
       "      <th></th>\n",
       "      <th>name</th>\n",
       "      <th>playtime_forever</th>\n",
       "    </tr>\n",
       "  </thead>\n",
       "  <tbody>\n",
       "    <tr>\n",
       "      <th>20</th>\n",
       "      <td>Terraria</td>\n",
       "      <td>12234</td>\n",
       "    </tr>\n",
       "    <tr>\n",
       "      <th>64</th>\n",
       "      <td>Celeste</td>\n",
       "      <td>3202</td>\n",
       "    </tr>\n",
       "    <tr>\n",
       "      <th>34</th>\n",
       "      <td>Knytt Underground</td>\n",
       "      <td>2310</td>\n",
       "    </tr>\n",
       "    <tr>\n",
       "      <th>58</th>\n",
       "      <td>System Shock: Enhanced Edition</td>\n",
       "      <td>1695</td>\n",
       "    </tr>\n",
       "    <tr>\n",
       "      <th>3</th>\n",
       "      <td>Psychonauts</td>\n",
       "      <td>1688</td>\n",
       "    </tr>\n",
       "    <tr>\n",
       "      <th>...</th>\n",
       "      <td>...</td>\n",
       "      <td>...</td>\n",
       "    </tr>\n",
       "    <tr>\n",
       "      <th>50</th>\n",
       "      <td>Devil May Cry 4 Special Edition</td>\n",
       "      <td>0</td>\n",
       "    </tr>\n",
       "    <tr>\n",
       "      <th>51</th>\n",
       "      <td>Firewatch</td>\n",
       "      <td>0</td>\n",
       "    </tr>\n",
       "    <tr>\n",
       "      <th>52</th>\n",
       "      <td>Ori and the Blind Forest</td>\n",
       "      <td>0</td>\n",
       "    </tr>\n",
       "    <tr>\n",
       "      <th>53</th>\n",
       "      <td>Ori and the Blind Forest: Definitive Edition</td>\n",
       "      <td>0</td>\n",
       "    </tr>\n",
       "    <tr>\n",
       "      <th>85</th>\n",
       "      <td>Knockout City™</td>\n",
       "      <td>0</td>\n",
       "    </tr>\n",
       "  </tbody>\n",
       "</table>\n",
       "<p>86 rows × 2 columns</p>\n",
       "</div>"
      ],
      "text/plain": [
       "                                            name  playtime_forever\n",
       "20                                      Terraria             12234\n",
       "64                                       Celeste              3202\n",
       "34                             Knytt Underground              2310\n",
       "58                System Shock: Enhanced Edition              1695\n",
       "3                                    Psychonauts              1688\n",
       "..                                           ...               ...\n",
       "50               Devil May Cry 4 Special Edition                 0\n",
       "51                                     Firewatch                 0\n",
       "52                      Ori and the Blind Forest                 0\n",
       "53  Ori and the Blind Forest: Definitive Edition                 0\n",
       "85                                Knockout City™                 0\n",
       "\n",
       "[86 rows x 2 columns]"
      ]
     },
     "execution_count": 116,
     "metadata": {},
     "output_type": "execute_result"
    }
   ],
   "source": [
    "order = games.sort_values('playtime_forever', ascending=False)\n",
    "gameOrder = order.drop(columns = ['appid', 'img_icon_url', 'playtime_windows_forever', 'playtime_mac_forever', 'playtime_linux_forever', 'rtime_last_played', 'has_community_visible_stats', 'has_leaderboards'])\n",
    "gameOrder"
   ]
  },
  {
   "cell_type": "markdown",
   "id": "b4b553a6",
   "metadata": {},
   "source": [
    "I decided to experiment by creating different types of plots for my data frame to see which ones could be the most suitable for my analysis. The first plot I made is a histogram, and it shows that I have a lot of games in my library with 0 playtime. Initially, I thought that this histogram indicated that I have way more games in my Steam library that I have not played yet than there are games that I have actually played. Looking closely however, it looks like each bar has a width of around 1000 in terms of playtime, so the longest bar that's displayed includes games with either no playtime or the least amount of playtime in my library."
   ]
  },
  {
   "cell_type": "code",
   "execution_count": 117,
   "id": "2147dc01",
   "metadata": {},
   "outputs": [
    {
     "data": {
      "image/png": "[encoded data removed]",
      "text/plain": [
       "<Figure size 432x288 with 1 Axes>"
      ]
     },
     "metadata": {
      "needs_background": "light"
     },
     "output_type": "display_data"
    }
   ],
   "source": [
    "gameOrder['playtime_forever'].plot.hist()\n",
    "plt.xlabel('Playtime')\n",
    "plt.ylabel('Games')\n",
    "plt.show()"
   ]
  },
  {
   "cell_type": "markdown",
   "id": "55fe0fa2",
   "metadata": {},
   "source": [
    "The next plot I made is a bar graph and I decided to only show the first 20 entries as well as rotate the graph sideways so that you can read each title horizontally. As you can see, while there are plenty of games that I've played on Steam, Terraria is the game where I've put far more hours into my playtime than any other game in my library. What I would like to figure out now is how I can make a bar graph that shows one bar representing my unplayed games and another bar showing the games I've actually played."
   ]
  },
  {
   "cell_type": "code",
   "execution_count": 118,
   "id": "042d9c8a",
   "metadata": {},
   "outputs": [
    {
     "data": {
      "image/png": "[encoded data removed]",
      "text/plain": [
       "<Figure size 432x288 with 1 Axes>"
      ]
     },
     "metadata": {
      "needs_background": "light"
     },
     "output_type": "display_data"
    }
   ],
   "source": [
    "gameOrder.head(n=20).plot.barh(y='playtime_forever', x='name')\n",
    "plt.xlabel('Playtime')\n",
    "plt.ylabel('Games')\n",
    "plt.show()"
   ]
  },
  {
   "cell_type": "markdown",
   "id": "17f5948d",
   "metadata": {},
   "source": [
    "The last plot I made is a pie chart and I think this and the bar plot can be used to reach my conclusion as I tweak them further. As of right now, it only shows the playtime for each game in my library along with the percentages. Just like the bar graph, I would also like to figure out how I can make the pie chart only display one piece showing my unplayed games and another piece showing my played games."
   ]
  },
  {
   "cell_type": "code",
   "execution_count": 119,
   "id": "f53d7f3e",
   "metadata": {},
   "outputs": [
    {
     "data": {
      "image/png": "[encoded data removed]",
      "text/plain": [
       "<Figure size 432x288 with 1 Axes>"
      ]
     },
     "metadata": {},
     "output_type": "display_data"
    }
   ],
   "source": [
    "fig2, ax2 = plt.subplots()\n",
    "ax2.pie(gameOrder['playtime_forever'], autopct='%1.0f%%', pctdistance=1.15)\n",
    "plt.show()"
   ]
  },
  {
   "cell_type": "markdown",
   "id": "eb8b851f",
   "metadata": {},
   "source": [
    "Going further, I continued to edit my data frame so that it would be able show just two pieces of information, the played and unplayed games in my library. The first attempt I made was to try out the \"pivot_table()\" function, and what generated was the amount of times each value in 'playtime_forever' was repeated. I managed to retrieve the number of games with 0 playtime, which is 47, but games with a higher playtime value are all separated due to none of the values being the same. I would need to find a way to create a data frame that would count every game that has a playtime value higher than 0."
   ]
  },
  {
   "cell_type": "code",
   "execution_count": 120,
   "id": "c6d951e7",
   "metadata": {},
   "outputs": [
    {
     "data": {
      "text/html": [
       "<div>\n",
       "<style scoped>\n",
       "    .dataframe tbody tr th:only-of-type {\n",
       "        vertical-align: middle;\n",
       "    }\n",
       "\n",
       "    .dataframe tbody tr th {\n",
       "        vertical-align: top;\n",
       "    }\n",
       "\n",
       "    .dataframe thead th {\n",
       "        text-align: right;\n",
       "    }\n",
       "</style>\n",
       "<table border=\"1\" class=\"dataframe\">\n",
       "  <thead>\n",
       "    <tr style=\"text-align: right;\">\n",
       "      <th></th>\n",
       "      <th>0</th>\n",
       "    </tr>\n",
       "    <tr>\n",
       "      <th>playtime_forever</th>\n",
       "      <th></th>\n",
       "    </tr>\n",
       "  </thead>\n",
       "  <tbody>\n",
       "    <tr>\n",
       "      <th>0</th>\n",
       "      <td>47</td>\n",
       "    </tr>\n",
       "    <tr>\n",
       "      <th>4</th>\n",
       "      <td>1</td>\n",
       "    </tr>\n",
       "    <tr>\n",
       "      <th>5</th>\n",
       "      <td>1</td>\n",
       "    </tr>\n",
       "    <tr>\n",
       "      <th>11</th>\n",
       "      <td>1</td>\n",
       "    </tr>\n",
       "    <tr>\n",
       "      <th>22</th>\n",
       "      <td>1</td>\n",
       "    </tr>\n",
       "  </tbody>\n",
       "</table>\n",
       "</div>"
      ],
      "text/plain": [
       "                   0\n",
       "playtime_forever    \n",
       "0                 47\n",
       "4                  1\n",
       "5                  1\n",
       "11                 1\n",
       "22                 1"
      ]
     },
     "execution_count": 120,
     "metadata": {},
     "output_type": "execute_result"
    }
   ],
   "source": [
    "count = pd.DataFrame(gameOrder.pivot_table(columns=['playtime_forever'], aggfunc='size'))\n",
    "count.head()"
   ]
  },
  {
   "cell_type": "markdown",
   "id": "503f1baf",
   "metadata": {},
   "source": [
    "For the next three cells, I decided to use \"groupby()\" and the \"pd.cut()\" function instead of sticking with \"pivot_table().\" This will allow me to sort the values in my data frame in different ranges using bins. I first used \"pd.cut()\" to count the number of games with a playtime value ranging from 1 to the 12234, which is the highest value in my data frame. It outputted a value of 39, indicating that I've played 39 out of the 86 games in my Steam library."
   ]
  },
  {
   "cell_type": "code",
   "execution_count": 121,
   "id": "2b909ae9",
   "metadata": {},
   "outputs": [
    {
     "data": {
      "text/html": [
       "<div>\n",
       "<style scoped>\n",
       "    .dataframe tbody tr th:only-of-type {\n",
       "        vertical-align: middle;\n",
       "    }\n",
       "\n",
       "    .dataframe tbody tr th {\n",
       "        vertical-align: top;\n",
       "    }\n",
       "\n",
       "    .dataframe thead th {\n",
       "        text-align: right;\n",
       "    }\n",
       "</style>\n",
       "<table border=\"1\" class=\"dataframe\">\n",
       "  <thead>\n",
       "    <tr style=\"text-align: right;\">\n",
       "      <th></th>\n",
       "      <th>name</th>\n",
       "      <th>playtime_forever</th>\n",
       "    </tr>\n",
       "    <tr>\n",
       "      <th>playtime_forever</th>\n",
       "      <th></th>\n",
       "      <th></th>\n",
       "    </tr>\n",
       "  </thead>\n",
       "  <tbody>\n",
       "    <tr>\n",
       "      <th>(1, 12234]</th>\n",
       "      <td>39</td>\n",
       "      <td>39</td>\n",
       "    </tr>\n",
       "  </tbody>\n",
       "</table>\n",
       "</div>"
      ],
      "text/plain": [
       "                  name  playtime_forever\n",
       "playtime_forever                        \n",
       "(1, 12234]          39                39"
      ]
     },
     "execution_count": 121,
     "metadata": {},
     "output_type": "execute_result"
    }
   ],
   "source": [
    "played = gameOrder.groupby(pd.cut(gameOrder['playtime_forever'], bins=[1, 12234])).count()\n",
    "played"
   ]
  },
  {
   "cell_type": "markdown",
   "id": "3e317144",
   "metadata": {},
   "source": [
    "I then used that same function to count the amount of games with 0 playtime by have the bins range from -1 to 0. Just like the \"pivot_table()\" function, it once again shows that there are 47 out of 86 unplayed games in my Steam library."
   ]
  },
  {
   "cell_type": "code",
   "execution_count": 122,
   "id": "91c03746",
   "metadata": {},
   "outputs": [
    {
     "data": {
      "text/html": [
       "<div>\n",
       "<style scoped>\n",
       "    .dataframe tbody tr th:only-of-type {\n",
       "        vertical-align: middle;\n",
       "    }\n",
       "\n",
       "    .dataframe tbody tr th {\n",
       "        vertical-align: top;\n",
       "    }\n",
       "\n",
       "    .dataframe thead th {\n",
       "        text-align: right;\n",
       "    }\n",
       "</style>\n",
       "<table border=\"1\" class=\"dataframe\">\n",
       "  <thead>\n",
       "    <tr style=\"text-align: right;\">\n",
       "      <th></th>\n",
       "      <th>name</th>\n",
       "      <th>playtime_forever</th>\n",
       "    </tr>\n",
       "    <tr>\n",
       "      <th>playtime_forever</th>\n",
       "      <th></th>\n",
       "      <th></th>\n",
       "    </tr>\n",
       "  </thead>\n",
       "  <tbody>\n",
       "    <tr>\n",
       "      <th>(-1, 0]</th>\n",
       "      <td>47</td>\n",
       "      <td>47</td>\n",
       "    </tr>\n",
       "  </tbody>\n",
       "</table>\n",
       "</div>"
      ],
      "text/plain": [
       "                  name  playtime_forever\n",
       "playtime_forever                        \n",
       "(-1, 0]             47                47"
      ]
     },
     "execution_count": 122,
     "metadata": {},
     "output_type": "execute_result"
    }
   ],
   "source": [
    "unplayed = gameOrder.groupby(pd.cut(gameOrder['playtime_forever'], bins=[-1, 0])).count()\n",
    "unplayed"
   ]
  },
  {
   "cell_type": "markdown",
   "id": "e9a0018e",
   "metadata": {},
   "source": [
    "Those two data frames only have one row each, so I used the \"concat()\" function to combine the two data frames as well as removing the extra 'playtime_forever' column using the \"drop()\" function. The final data frame result shows the two main values I'll use for my concluding graphs. \"(1, 12234]\" represents the games that I've played while \"(-1, 0]\" represents the games that I haven't played."
   ]
  },
  {
   "cell_type": "code",
   "execution_count": 123,
   "id": "58ce616e",
   "metadata": {},
   "outputs": [
    {
     "data": {
      "text/html": [
       "<div>\n",
       "<style scoped>\n",
       "    .dataframe tbody tr th:only-of-type {\n",
       "        vertical-align: middle;\n",
       "    }\n",
       "\n",
       "    .dataframe tbody tr th {\n",
       "        vertical-align: top;\n",
       "    }\n",
       "\n",
       "    .dataframe thead th {\n",
       "        text-align: right;\n",
       "    }\n",
       "</style>\n",
       "<table border=\"1\" class=\"dataframe\">\n",
       "  <thead>\n",
       "    <tr style=\"text-align: right;\">\n",
       "      <th></th>\n",
       "      <th>name</th>\n",
       "    </tr>\n",
       "    <tr>\n",
       "      <th>playtime_forever</th>\n",
       "      <th></th>\n",
       "    </tr>\n",
       "  </thead>\n",
       "  <tbody>\n",
       "    <tr>\n",
       "      <th>(1, 12234]</th>\n",
       "      <td>39</td>\n",
       "    </tr>\n",
       "    <tr>\n",
       "      <th>(-1, 0]</th>\n",
       "      <td>47</td>\n",
       "    </tr>\n",
       "  </tbody>\n",
       "</table>\n",
       "</div>"
      ],
      "text/plain": [
       "                  name\n",
       "playtime_forever      \n",
       "(1, 12234]          39\n",
       "(-1, 0]             47"
      ]
     },
     "execution_count": 123,
     "metadata": {},
     "output_type": "execute_result"
    }
   ],
   "source": [
    "gameCount = [played, unplayed]\n",
    "gameTotal = pd.concat(gameCount).drop(columns = ['playtime_forever'])\n",
    "gameTotal"
   ]
  },
  {
   "cell_type": "markdown",
   "id": "a4ba8f9a",
   "metadata": {},
   "source": [
    "I created a bar plot to compare the two values of my data frame and it shows my unplayed games having a higher value than my played games."
   ]
  },
  {
   "cell_type": "code",
   "execution_count": 124,
   "id": "d5e3063b",
   "metadata": {},
   "outputs": [
    {
     "data": {
      "image/png": "[encoded data removed]",
      "text/plain": [
       "<Figure size 432x288 with 1 Axes>"
      ]
     },
     "metadata": {
      "needs_background": "light"
     },
     "output_type": "display_data"
    }
   ],
   "source": [
    "gameTotal.plot.bar(rot=0)\n",
    "plt.xlabel('Playtime')\n",
    "plt.ylabel('Games')\n",
    "plt.show()"
   ]
  },
  {
   "cell_type": "markdown",
   "id": "536abd4f",
   "metadata": {},
   "source": [
    "I felt that the bar plot didn't tell me enough and I wanted to be more exact as to how the values of my data frame compare to each other, so I made a pie chart as my final graph and included percentages and labels for both values. According to the pie chart, I have played 45.3% of the games in my Steam library while 54.7% of my library still remain untouched."
   ]
  },
  {
   "cell_type": "code",
   "execution_count": 125,
   "id": "f4b94a25",
   "metadata": {},
   "outputs": [
    {
     "data": {
      "image/png": "[encoded data removed]",
      "text/plain": [
       "<Figure size 432x288 with 1 Axes>"
      ]
     },
     "metadata": {},
     "output_type": "display_data"
    }
   ],
   "source": [
    "fig2, ax2 = plt.subplots()\n",
    "ax2.pie(gameTotal['name'], labels = label, autopct = '%1.1F%%', colors = ['orange', 'gray'])\n",
    "plt.show()"
   ]
  },
  {
   "cell_type": "markdown",
   "id": "eb91c279",
   "metadata": {},
   "source": [
    "Because of my personal habit of purchasing games on sale without playing them, both values in the pie chart are actually closer than I expected them to be. I initially expected the \"Unplayed\" category to be way higher than what it actually displayed, and I feel like the histogram I made in the beginning might've played a role in that thought process because of how one bar in that histogram is much higher than the rest.\n",
    "\n",
    "Even though the amount of unplayed games is lower than I expected, there are probably a lot of games in my library that I have played, but also have a very low playtime value. If I added those games into my unplayed category, the value could significantly increase depending on how many hours I've spent on each game I've played. I know the first bar plot I made showed that Terraria is the only game where I've spent a large amount of hours playing, so that could indicate that I may also have a lot games in my library where I did play, but spent very little time on them. It's speculations like these could open the door for more opportunities to investigate the data in my Steam library."
   ]
  }
 ],
 "metadata": {
  "kernelspec": {
   "display_name": "Python 3 (ipykernel)",
   "language": "python",
   "name": "python3"
  },
  "language_info": {
   "codemirror_mode": {
    "name": "ipython",
    "version": 3
   },
   "file_extension": ".py",
   "mimetype": "text/x-python",
   "name": "python",
   "nbconvert_exporter": "python",
   "pygments_lexer": "ipython3",
   "version": "3.10.4"
  }
 },
 "nbformat": 4,
 "nbformat_minor": 5
}
